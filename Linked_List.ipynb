{
 "cells": [
  {
   "cell_type": "markdown",
   "metadata": {},
   "source": [
    "# Linked List "
   ]
  },
  {
   "cell_type": "code",
   "execution_count": 30,
   "metadata": {},
   "outputs": [],
   "source": [
    "#Simple Linked List\n",
    "\n",
    "class Node:#Node Contains two fields 1- value or elements 2- which contains the address of the next node\n",
    "    def __init__(self, value):\n",
    "        self.value=value #1st field of the node\n",
    "        self.next= None #2nd field of the node\n",
    "\n",
    "class Linked_list:\n",
    "    def __init__(self):\n",
    "        self.head= None #start field of the node\n",
    "    def print_list(self):\n",
    "        if self.head==None:\n",
    "            print(\"List is empty\")\n",
    "        else:\n",
    "            temp=self.head\n",
    "        while(temp):\n",
    "            print(temp.value)\n",
    "            temp=temp.next\n",
    "        "
   ]
  },
  {
   "cell_type": "code",
   "execution_count": 31,
   "metadata": {},
   "outputs": [],
   "source": [
    "l1= Linked_list()\n",
    "l1.head=Node(1)\n",
    "l2= Node(2)\n",
    "l3=Node(3)\n",
    "\n",
    "l1.head.next= l2\n",
    "l2.next= l3\n",
    "\n",
    "            "
   ]
  },
  {
   "cell_type": "code",
   "execution_count": 32,
   "metadata": {},
   "outputs": [
    {
     "name": "stdout",
     "output_type": "stream",
     "text": [
      "1\n",
      "2\n",
      "3\n"
     ]
    }
   ],
   "source": [
    "l1.print_list()\n"
   ]
  },
  {
   "cell_type": "markdown",
   "metadata": {},
   "source": [
    "# Basic Operations- Traversing, Delete Insert"
   ]
  },
  {
   "cell_type": "code",
   "execution_count": 33,
   "metadata": {},
   "outputs": [],
   "source": [
    "class Node:\n",
    "    def __init__(self, value):\n",
    "        self.value=value\n",
    "        self.next= None\n",
    "        \n",
    "class Linked_list:\n",
    "    def __init__(self):\n",
    "        self.head= None\n",
    "    \n",
    "    def insertatend(self,value):#insert at the end of  linked list\n",
    "        temp1=Node(value)\n",
    "        if self.head==None:\n",
    "            self.head=temp1\n",
    "        else:\n",
    "            temp=self.head\n",
    "            while(temp.next!=None):\n",
    "                temp=temp.next\n",
    "            temp.next=temp1    \n",
    "    def delete_first(self):#delete from the starting of the linked list\n",
    "        if self.head==None:\n",
    "            print(\"Linked List is empty\")\n",
    "        else:\n",
    "            self.head= self.head.next\n",
    "        \n",
    "    def print_list(self):#Traversing Linked Lis\n",
    "        if self.head==None:\n",
    "            print(List is empty)\n",
    "        else:\n",
    "            temp= self.head\n",
    "            while(temp):\n",
    "                print(temp.value, end=' , ')\n",
    "                temp=temp.next\n",
    "            \n",
    "        "
   ]
  },
  {
   "cell_type": "code",
   "execution_count": 36,
   "metadata": {},
   "outputs": [
    {
     "name": "stdout",
     "output_type": "stream",
     "text": [
      "eng , che , phy , "
     ]
    }
   ],
   "source": [
    "l2= Linked_list()\n",
    "l2.insertatend('eng')\n",
    "l2.insertatend('che')\n",
    "l2.insertatend('phy')\n",
    "l2.print_list()\n"
   ]
  },
  {
   "cell_type": "code",
   "execution_count": 37,
   "metadata": {},
   "outputs": [
    {
     "name": "stdout",
     "output_type": "stream",
     "text": [
      "che , phy , "
     ]
    }
   ],
   "source": [
    "l2.delete_first()\n",
    "l2.print_list()"
   ]
  },
  {
   "cell_type": "code",
   "execution_count": null,
   "metadata": {},
   "outputs": [],
   "source": []
  }
 ],
 "metadata": {
  "kernelspec": {
   "display_name": "Python 3",
   "language": "python",
   "name": "python3"
  },
  "language_info": {
   "codemirror_mode": {
    "name": "ipython",
    "version": 3
   },
   "file_extension": ".py",
   "mimetype": "text/x-python",
   "name": "python",
   "nbconvert_exporter": "python",
   "pygments_lexer": "ipython3",
   "version": "3.7.3"
  }
 },
 "nbformat": 4,
 "nbformat_minor": 2
}
